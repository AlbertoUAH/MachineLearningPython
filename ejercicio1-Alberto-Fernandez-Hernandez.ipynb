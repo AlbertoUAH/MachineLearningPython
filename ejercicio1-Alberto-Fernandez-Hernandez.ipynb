{
 "cells": [
  {
   "cell_type": "code",
   "execution_count": 18,
   "metadata": {},
   "outputs": [],
   "source": [
    "\"\"\" Cualquier librería adicional que necesiteis durante el ejercicio, importadlo en esta sección \"\"\"\n",
    "\n",
    "import pandas as pd\n",
    "import numpy as np\n",
    "import matplotlib.pyplot as plt\n",
    "import seaborn as sns\n",
    "import warnings\n",
    "\n",
    "sns.set_style('darkgrid')\n",
    "np.set_printoptions(precision=2)\n",
    "# warnings.filterwarnings(\"ignore\")\n",
    "\n",
    "from sklearn.preprocessing import MinMaxScaler, StandardScaler, Normalizer, Binarizer, RobustScaler\n",
    "from sklearn.compose import ColumnTransformer\n",
    "from sklearn.preprocessing import OneHotEncoder, LabelEncoder, PowerTransformer\n",
    "from sklearn.impute import SimpleImputer, KNNImputer\n",
    "\n",
    "from sklearn.feature_selection import SelectKBest, chi2, RFE\n",
    "from sklearn.model_selection import train_test_split\n",
    "from sklearn.pipeline import make_pipeline, Pipeline\n",
    "from sklearn.decomposition import PCA\n",
    "\n",
    "from sklearn.linear_model import LogisticRegression\n",
    "from sklearn.tree import DecisionTreeClassifier\n",
    "from sklearn.neighbors import KNeighborsClassifier\n",
    "from sklearn.discriminant_analysis import LinearDiscriminantAnalysis\n",
    "from sklearn.naive_bayes import GaussianNB\n",
    "from sklearn.ensemble import RandomForestClassifier, ExtraTreesClassifier\n",
    "from sklearn.svm import SVC\n",
    "\n",
    "from sklearn.metrics import accuracy_score, confusion_matrix, classification_report, f1_score\n",
    "\n",
    "from sklearn.model_selection import KFold, ShuffleSplit, LeaveOneOut, StratifiedKFold\n",
    "from sklearn.model_selection import cross_val_score, cross_val_predict\n",
    "from sklearn.model_selection import GridSearchCV, RandomizedSearchCV"
   ]
  },
  {
   "cell_type": "markdown",
   "metadata": {},
   "source": [
    "# Ejercicio 1\n",
    "\n",
    "Este ejercicio pretende poner en práctica la habilidad para crear modelos en __sklearn__ mediante el uso de transformadores _ad hoc_.\n",
    "\n",
    "El estudiante tendrá que repasar los comandos realizados en clase y lidiar con posibles errores durante el desarrollo. \n",
    "\n",
    "Para facilitar y agilizar el desarrollo, el estudiante tendrá que rellenar los huecos marcados como '_# codigo-alumno_'. No obstante, si además el estudiante necesita ejecutar código adicional, siempre podrá utilizar cualquier celda adicional. \n",
    "\n",
    "El estudiante tendrá siempre que introducir una semilla (seed) que generará acorde a su fecha de nacimiento (sin ser intrusivos en edad).\n",
    "\n",
    "Finalmente, la entrega será un fichero .ipynb cambiando nombre y apellido al fichero."
   ]
  },
  {
   "cell_type": "code",
   "execution_count": 19,
   "metadata": {},
   "outputs": [],
   "source": [
    "\"\"\" El estudiante tendrá que utilizar la semilla proporcionada para todos los procesos aleatorios \"\"\"\n",
    "\n",
    "seed = 30 + 13 * 6"
   ]
  },
  {
   "cell_type": "markdown",
   "metadata": {},
   "source": [
    "### Data cleaning"
   ]
  },
  {
   "cell_type": "code",
   "execution_count": 20,
   "metadata": {},
   "outputs": [
    {
     "data": {
      "text/plain": [
       "Index(['PassengerId', 'Survived', 'Pclass', 'Name', 'Sex', 'Age', 'SibSp',\n",
       "       'Parch', 'Ticket', 'Fare', 'Cabin', 'Embarked', 'Title'],\n",
       "      dtype='object')"
      ]
     },
     "execution_count": 20,
     "metadata": {},
     "output_type": "execute_result"
    }
   ],
   "source": [
    "\"\"\" Leed el fichero con pandas y almacenarlo en una variable llamada data \"\"\"\n",
    "\n",
    "data = pd.read_csv('./data/titanic-2.csv')\n",
    "data.columns"
   ]
  },
  {
   "cell_type": "code",
   "execution_count": 21,
   "metadata": {},
   "outputs": [],
   "source": [
    "\"\"\" Cread una variable adicional, llamada hasCabin, \n",
    "    que tome valor 0 si la columna Cabin es nula, y 1 si no lo es \"\"\"\n",
    "\n",
    "data['hasCabin'] = data.Cabin.apply(lambda x: 0 if pd.isnull(x) else 1)"
   ]
  },
  {
   "cell_type": "code",
   "execution_count": 22,
   "metadata": {},
   "outputs": [],
   "source": [
    "\"\"\"Eliminad las columnas PassengerId, Cabin, Ticket y Name de data (comando drop) \"\"\"\n",
    "\n",
    "data = data.drop(columns = ['PassengerId', 'Cabin', 'Ticket', 'Name'])"
   ]
  },
  {
   "cell_type": "code",
   "execution_count": 23,
   "metadata": {},
   "outputs": [
    {
     "data": {
      "text/plain": [
       "Index(['Survived', 'Pclass', 'Sex', 'Age', 'SibSp', 'Parch', 'Fare',\n",
       "       'Embarked', 'Title', 'hasCabin'],\n",
       "      dtype='object')"
      ]
     },
     "execution_count": 23,
     "metadata": {},
     "output_type": "execute_result"
    }
   ],
   "source": [
    "data.columns # Comprobamos que se han eliminado correctamente"
   ]
  },
  {
   "cell_type": "code",
   "execution_count": 24,
   "metadata": {},
   "outputs": [],
   "source": [
    "\"\"\" Modificad las variables Title, Parch y SibSp, donde Title tome los valores Mr, Mrs, Miss y Otros. \n",
    "    Y Parch y SibSp toman los valores 0, 1 o 2 (donde 2 incluye 2 o más) \"\"\"\n",
    "\n",
    "data['SibSp'] = data.SibSp.apply(lambda x: 2 if x>= 2 else x)\n",
    "data['Parch'] = data.Parch.apply(lambda x: 2 if x>= 2 else x)\n",
    "data['Title'] = data.Title.apply(lambda x: x if x in ['Mr', 'Mrs', 'Miss'] else 'Otros')"
   ]
  },
  {
   "cell_type": "code",
   "execution_count": 25,
   "metadata": {},
   "outputs": [
    {
     "data": {
      "text/html": [
       "<div>\n",
       "<style scoped>\n",
       "    .dataframe tbody tr th:only-of-type {\n",
       "        vertical-align: middle;\n",
       "    }\n",
       "\n",
       "    .dataframe tbody tr th {\n",
       "        vertical-align: top;\n",
       "    }\n",
       "\n",
       "    .dataframe thead th {\n",
       "        text-align: right;\n",
       "    }\n",
       "</style>\n",
       "<table border=\"1\" class=\"dataframe\">\n",
       "  <thead>\n",
       "    <tr style=\"text-align: right;\">\n",
       "      <th></th>\n",
       "      <th>SibSp</th>\n",
       "      <th>Parch</th>\n",
       "      <th>Title</th>\n",
       "    </tr>\n",
       "  </thead>\n",
       "  <tbody>\n",
       "    <tr>\n",
       "      <th>0</th>\n",
       "      <td>1</td>\n",
       "      <td>0</td>\n",
       "      <td>Mr</td>\n",
       "    </tr>\n",
       "    <tr>\n",
       "      <th>1</th>\n",
       "      <td>1</td>\n",
       "      <td>0</td>\n",
       "      <td>Mrs</td>\n",
       "    </tr>\n",
       "    <tr>\n",
       "      <th>2</th>\n",
       "      <td>0</td>\n",
       "      <td>0</td>\n",
       "      <td>Miss</td>\n",
       "    </tr>\n",
       "    <tr>\n",
       "      <th>3</th>\n",
       "      <td>1</td>\n",
       "      <td>0</td>\n",
       "      <td>Mrs</td>\n",
       "    </tr>\n",
       "    <tr>\n",
       "      <th>4</th>\n",
       "      <td>0</td>\n",
       "      <td>0</td>\n",
       "      <td>Mr</td>\n",
       "    </tr>\n",
       "    <tr>\n",
       "      <th>...</th>\n",
       "      <td>...</td>\n",
       "      <td>...</td>\n",
       "      <td>...</td>\n",
       "    </tr>\n",
       "    <tr>\n",
       "      <th>886</th>\n",
       "      <td>0</td>\n",
       "      <td>0</td>\n",
       "      <td>Otros</td>\n",
       "    </tr>\n",
       "    <tr>\n",
       "      <th>887</th>\n",
       "      <td>0</td>\n",
       "      <td>0</td>\n",
       "      <td>Miss</td>\n",
       "    </tr>\n",
       "    <tr>\n",
       "      <th>888</th>\n",
       "      <td>1</td>\n",
       "      <td>2</td>\n",
       "      <td>Miss</td>\n",
       "    </tr>\n",
       "    <tr>\n",
       "      <th>889</th>\n",
       "      <td>0</td>\n",
       "      <td>0</td>\n",
       "      <td>Mr</td>\n",
       "    </tr>\n",
       "    <tr>\n",
       "      <th>890</th>\n",
       "      <td>0</td>\n",
       "      <td>0</td>\n",
       "      <td>Mr</td>\n",
       "    </tr>\n",
       "  </tbody>\n",
       "</table>\n",
       "<p>891 rows × 3 columns</p>\n",
       "</div>"
      ],
      "text/plain": [
       "     SibSp  Parch  Title\n",
       "0        1      0     Mr\n",
       "1        1      0    Mrs\n",
       "2        0      0   Miss\n",
       "3        1      0    Mrs\n",
       "4        0      0     Mr\n",
       "..     ...    ...    ...\n",
       "886      0      0  Otros\n",
       "887      0      0   Miss\n",
       "888      1      2   Miss\n",
       "889      0      0     Mr\n",
       "890      0      0     Mr\n",
       "\n",
       "[891 rows x 3 columns]"
      ]
     },
     "execution_count": 25,
     "metadata": {},
     "output_type": "execute_result"
    }
   ],
   "source": [
    "data[['SibSp', 'Parch', 'Title']] # Comprobamos que las columnas se han modificado correctamente"
   ]
  },
  {
   "cell_type": "code",
   "execution_count": 26,
   "metadata": {},
   "outputs": [
    {
     "data": {
      "text/plain": [
       "Survived      0\n",
       "Pclass        0\n",
       "Sex           0\n",
       "Age         177\n",
       "SibSp         0\n",
       "Parch         0\n",
       "Fare          0\n",
       "Embarked      0\n",
       "Title         0\n",
       "hasCabin      0\n",
       "dtype: int64"
      ]
     },
     "execution_count": 26,
     "metadata": {},
     "output_type": "execute_result"
    }
   ],
   "source": [
    "\"\"\" Eliminad los dos registros cuyo valor Embarked es nulo \n",
    "    (se recomienda comprobar que se hayan eliminado correctamente) \"\"\"\n",
    "\n",
    "data = data[~data.Embarked.isnull()]\n",
    "data.isnull().sum()"
   ]
  },
  {
   "cell_type": "code",
   "execution_count": 27,
   "metadata": {},
   "outputs": [
    {
     "data": {
      "text/plain": [
       "102"
      ]
     },
     "execution_count": 27,
     "metadata": {},
     "output_type": "execute_result"
    }
   ],
   "source": [
    "\"\"\" Eliminad registros duplicados en caso de que los haya \"\"\"\n",
    "data.duplicated().sum() # Hay registros duplicados, por lo que debemos eliminarlos"
   ]
  },
  {
   "cell_type": "code",
   "execution_count": 28,
   "metadata": {},
   "outputs": [
    {
     "data": {
      "text/plain": [
       "0"
      ]
     },
     "execution_count": 28,
     "metadata": {},
     "output_type": "execute_result"
    }
   ],
   "source": [
    "data = data.drop_duplicates()\n",
    "data.duplicated().sum()"
   ]
  },
  {
   "cell_type": "markdown",
   "metadata": {},
   "source": [
    "### Feature engineering"
   ]
  },
  {
   "cell_type": "code",
   "execution_count": 29,
   "metadata": {},
   "outputs": [
    {
     "data": {
      "text/plain": [
       "array([[ 3. , 22. ,  1. , ...,  1. ,  0. ,  0. ],\n",
       "       [ 1. , 38. ,  1. , ...,  0. ,  0. ,  1. ],\n",
       "       [ 3. , 26. ,  0. , ...,  0. ,  1. ,  0. ],\n",
       "       ...,\n",
       "       [ 3. , 26.8,  1. , ...,  0. ,  1. ,  0. ],\n",
       "       [ 1. , 26. ,  0. , ...,  1. ,  0. ,  0. ],\n",
       "       [ 3. , 32. ,  0. , ...,  1. ,  0. ,  0. ]])"
      ]
     },
     "execution_count": 29,
     "metadata": {},
     "output_type": "execute_result"
    }
   ],
   "source": [
    "\"\"\"\n",
    "Realizar un ColumnTransformer que lleve:\n",
    "- Un KNN Imputer para 'Pclass', 'Age', 'SibSp', 'Parch', 'Fare'\n",
    "- Un PowerTransformer yeo-johnson para 'Fare'\n",
    "- Un OneHotEncoder para las variables 'Sex', 'Parch', 'Embarked' y 'Title'\n",
    "\"\"\"\n",
    "\n",
    "col_transformer = ColumnTransformer([\n",
    "    ('imputer', KNNImputer(n_neighbors=5, weights='uniform', metric='nan_euclidean'), ['Pclass', 'Age', 'SibSp', \n",
    "                                                                                       'Parch', 'Fare']),\n",
    "    ('power-transformer', PowerTransformer(method='yeo-johnson', standardize=True), ['Fare']),\n",
    "    ('encoder-sex', OneHotEncoder(drop='if_binary'), ['Sex']),\n",
    "    ('encoder-parch', OneHotEncoder(drop='first'), ['Parch']),\n",
    "    ('encoder-embarked', OneHotEncoder(drop='first'), ['Embarked']),\n",
    "    ('encoder-title', OneHotEncoder(handle_unknown='ignore', categories=[['Mr', 'Miss', 'Mrs']]), ['Title'])\n",
    "])\n",
    "\n",
    "ctransformed = col_transformer.fit_transform(data)\n",
    "ctransformed"
   ]
  },
  {
   "cell_type": "markdown",
   "metadata": {},
   "source": [
    "### Model Selection"
   ]
  },
  {
   "cell_type": "code",
   "execution_count": 30,
   "metadata": {},
   "outputs": [],
   "source": [
    "\"\"\" Realizaremos un análisis de los siguientes modelos con las siguentes features \"\"\"\n",
    "\n",
    "models = []\n",
    "models.append(('LR', LogisticRegression(random_state=seed)))\n",
    "models.append(('LDA', LinearDiscriminantAnalysis()))\n",
    "models.append(('KNN', KNeighborsClassifier()))\n",
    "models.append(('DTC', DecisionTreeClassifier(random_state=seed)))\n",
    "models.append(('NB',  GaussianNB()))\n",
    "models.append(('RFC', RandomForestClassifier(random_state=seed)))\n",
    "models.append(('SVM', SVC()))\n",
    "\n",
    "X = data[['Pclass', 'Sex', 'Age', 'SibSp', 'Parch', 'Fare', 'Embarked', 'Title', 'hasCabin']]\n",
    "y = data['Survived']"
   ]
  },
  {
   "cell_type": "code",
   "execution_count": 31,
   "metadata": {},
   "outputs": [],
   "source": [
    "\"\"\" Para plotear los resultados utilizaremos la siguiente función \"\"\"\n",
    "\n",
    "def boxplots_algorithms(results, names):\n",
    "    \n",
    "    plt.figure(figsize=(8,8))\n",
    "    plt.boxplot(results)\n",
    "    plt.xticks(range(1,len(names)+1), names)\n",
    "    plt.show()"
   ]
  },
  {
   "cell_type": "code",
   "execution_count": 32,
   "metadata": {},
   "outputs": [
    {
     "name": "stdout",
     "output_type": "stream",
     "text": [
      "LR: 0.791594 (0.041438)\n",
      "LDA: 0.786482 (0.048533)\n",
      "KNN: 0.767429 (0.045975)\n",
      "DTC: 0.738234 (0.031689)\n",
      "NB: 0.767511 (0.039835)\n",
      "RFC: 0.769977 (0.046107)\n",
      "SVM: 0.795391 (0.035317)\n"
     ]
    },
    {
     "data": {
      "image/png": "[encoded data removed]",
      "text/plain": [
       "<Figure size 576x576 with 1 Axes>"
      ]
     },
     "metadata": {},
     "output_type": "display_data"
    }
   ],
   "source": [
    "\"\"\" Realizad un bucle que calcule, para cada modelo,\n",
    "    - Un pipeline que realice:\n",
    "        1. El ColumnTransformer diseñado anteriormente\n",
    "        2. Un RobustScaler a continuación y, finalmente, \n",
    "        3. Evalue cada modelo \n",
    "    - Una validación cruzada:\n",
    "        1. Tipo KFolds, con 10 splits \n",
    "        2. Aleatorio con semilla y,\n",
    "        3. scoring='accuracy'\n",
    "     Usaremos la función boxplots_algorithms para plotear los resultados \"\"\"\n",
    "\n",
    "results = []\n",
    "names = []\n",
    "\n",
    "for name, model in models:\n",
    "    \n",
    "    scaler = RobustScaler()\n",
    "    pipeline = make_pipeline(col_transformer, scaler, model)\n",
    "    \n",
    "    cv_technique = KFold(n_splits = 10, shuffle = True, random_state = seed)\n",
    "    cv_results = cross_val_score(pipeline, X, y, cv = cv_technique, scoring = 'accuracy')\n",
    "    \n",
    "    msg = \"%s: %f (%f)\" % (name, cv_results.mean(), cv_results.std())\n",
    "    print(msg)\n",
    "    \n",
    "    results.append(cv_results)\n",
    "    names.append(name)\n",
    "    \n",
    "boxplots_algorithms(results, names)"
   ]
  },
  {
   "cell_type": "code",
   "execution_count": 33,
   "metadata": {},
   "outputs": [
    {
     "name": "stdout",
     "output_type": "stream",
     "text": [
      "LR: 0.784096 (0.047661)\n",
      "LDA: 0.792989 (0.049724)\n",
      "KNN: 0.768809 (0.035319)\n",
      "DTC: 0.725544 (0.039018)\n",
      "NB: 0.759948 (0.073721)\n",
      "RFC: 0.773856 (0.016436)\n",
      "SVM: 0.799270 (0.047861)\n"
     ]
    },
    {
     "data": {
      "image/png": "[encoded data removed]",
      "text/plain": [
       "<Figure size 576x576 with 1 Axes>"
      ]
     },
     "metadata": {},
     "output_type": "display_data"
    }
   ],
   "source": [
    "\"\"\" Realizad el mismo estudio de selección de variables, pero con StratifiedKFolds \"\"\"\n",
    "\n",
    "results = []\n",
    "names = []\n",
    "\n",
    "for name, model in models:\n",
    "    \n",
    "    scaler = RobustScaler()\n",
    "    pipeline = make_pipeline(col_transformer, scaler, model)\n",
    "    \n",
    "    cv_technique = StratifiedKFold(n_splits = 10, shuffle = True, random_state = seed)\n",
    "    cv_results = cross_val_score(pipeline, X, y, cv = cv_technique, scoring = 'accuracy')\n",
    "    \n",
    "    msg = \"%s: %f (%f)\" % (name, cv_results.mean(), cv_results.std())\n",
    "    print(msg)\n",
    "    \n",
    "    results.append(cv_results)\n",
    "    names.append(name)\n",
    "    \n",
    "boxplots_algorithms(results, names)"
   ]
  },
  {
   "cell_type": "markdown",
   "metadata": {},
   "source": [
    "### Model Tuning"
   ]
  },
  {
   "cell_type": "code",
   "execution_count": 34,
   "metadata": {},
   "outputs": [
    {
     "name": "stdout",
     "output_type": "stream",
     "text": [
      "0.8093962999026291\n",
      "Pipeline(steps=[('transformacion_columna',\n",
      "                 ColumnTransformer(transformers=[('imputer', KNNImputer(),\n",
      "                                                  ['Pclass', 'Age', 'SibSp',\n",
      "                                                   'Parch', 'Fare']),\n",
      "                                                 ('power-transformer',\n",
      "                                                  PowerTransformer(),\n",
      "                                                  ['Fare']),\n",
      "                                                 ('encoder-sex',\n",
      "                                                  OneHotEncoder(drop='if_binary'),\n",
      "                                                  ['Sex']),\n",
      "                                                 ('encoder-parch',\n",
      "                                                  OneHotEncoder(drop='first'),\n",
      "                                                  ['Parch']),\n",
      "                                                 ('encoder-embarked',\n",
      "                                                  OneHotEncoder(drop='first'),\n",
      "                                                  ['Embarked']),\n",
      "                                                 ('encoder-title',\n",
      "                                                  OneHotEncoder(categories=[['Mr',\n",
      "                                                                             'Miss',\n",
      "                                                                             'Mrs']],\n",
      "                                                                handle_unknown='ignore'),\n",
      "                                                  ['Title'])])),\n",
      "                ('robust_scaler', RobustScaler()),\n",
      "                ('model',\n",
      "                 RandomForestClassifier(criterion='entropy', max_depth=8,\n",
      "                                        n_estimators=10, random_state=108))])\n"
     ]
    }
   ],
   "source": [
    "\"\"\" Realizad un Tuneado del RandomForestClassifier para estimar cuál es la mejor configuración paramétrica\n",
    "    Y comprobarlo con GridSearchCV \"\"\"\n",
    "\n",
    "param_grid = { \n",
    "    'model__n_estimators': [10, 20],\n",
    "    'model__max_features': ['auto', 'sqrt', 'log2'],\n",
    "    'model__max_depth' : [4,5,6,7,8],\n",
    "    'model__criterion' :['gini', 'entropy']\n",
    "}\n",
    "model = RandomForestClassifier(random_state = seed)\n",
    "\n",
    "pipeline = Pipeline([('transformacion_columna', col_transformer), \n",
    "                     ('robust_scaler', scaler), \n",
    "                     ('model', model)])\n",
    "\n",
    "cv_technique = StratifiedKFold(n_splits=10, shuffle=True, random_state=seed)\n",
    "grid_model = GridSearchCV(estimator = pipeline, param_grid = param_grid, cv = cv_technique)\n",
    "grid_model.fit(X, y)\n",
    "\n",
    "print(grid_model.best_score_)\n",
    "print(grid_model.best_estimator_)"
   ]
  },
  {
   "cell_type": "markdown",
   "metadata": {},
   "source": [
    "Finalmente, el mejor estimador obtenido presenta los siguientes parámetros:\n",
    "* __Criterio__: entropía\n",
    "* __Profundidad máxima del árbol__: 8\n",
    "* __Número de árboles__: 10"
   ]
  }
 ],
 "metadata": {
  "kernelspec": {
   "display_name": "Python 3",
   "language": "python",
   "name": "python3"
  },
  "language_info": {
   "codemirror_mode": {
    "name": "ipython",
    "version": 3
   },
   "file_extension": ".py",
   "mimetype": "text/x-python",
   "name": "python",
   "nbconvert_exporter": "python",
   "pygments_lexer": "ipython3",
   "version": "3.8.3"
  }
 },
 "nbformat": 4,
 "nbformat_minor": 2
}
